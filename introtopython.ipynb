{
 "cells": [
  {
   "cell_type": "markdown",
   "metadata": {},
   "source": [
    "Start of David B's Entries"
   ]
  },
  {
   "cell_type": "markdown",
   "metadata": {},
   "source": [
    "End of David B's Entries"
   ]
  },
  {
   "cell_type": "markdown",
   "metadata": {},
   "source": [
    "Start of Spencer's Entries"
   ]
  },
  {
   "cell_type": "markdown",
   "metadata": {},
   "source": [
    "## Python Basic Syntax"
   ]
  },
  {
   "cell_type": "markdown",
   "metadata": {},
   "source": [
    "To add documentation in your code you can you comments. For single line comments use the number sign `#` to denote the start of the comment. The Python interpreter will ignore everything after the number sign on that line."
   ]
  },
  {
   "cell_type": "code",
   "execution_count": 1,
   "metadata": {},
   "outputs": [
    {
     "name": "stdout",
     "output_type": "stream",
     "text": [
      "Python\n"
     ]
    }
   ],
   "source": [
    "# Single line comment above \n",
    "print (\"Python\") # Single line comment on the same line as code\n",
    "# Single line comment below code, this is discouraged as it can lead to confusion which line of code you're commenting"
   ]
  },
  {
   "cell_type": "markdown",
   "metadata": {},
   "source": [
    "For a multiline comment you can either use triple single quotes `'''` or triple double quotes `\"\"\"`. Which ever you choose you must end the comment block with the matching quote type."
   ]
  },
  {
   "cell_type": "code",
   "execution_count": null,
   "metadata": {},
   "outputs": [],
   "source": [
    "\"\"\"This is a multiline\n",
    "comment with double quotes\"\"\"\n",
    "\n",
    "'''This is a multiline comment \n",
    "with single quotes''' \n",
    "\n",
    "print (\"Python\")"
   ]
  },
  {
   "cell_type": "markdown",
   "metadata": {},
   "source": [
    "An `int` or integer data type is any whole number positive or negative."
   ]
  },
  {
   "cell_type": "code",
   "execution_count": null,
   "metadata": {},
   "outputs": [],
   "source": [
    "#int\n",
    "type(42)"
   ]
  },
  {
   "cell_type": "code",
   "execution_count": null,
   "metadata": {},
   "outputs": [],
   "source": [
    "#int\n",
    "type(-42)"
   ]
  },
  {
   "cell_type": "markdown",
   "metadata": {},
   "source": [
    "A Float is any decimal number. The result of classic division will always be converted to a float."
   ]
  },
  {
   "cell_type": "code",
   "execution_count": null,
   "metadata": {},
   "outputs": [],
   "source": [
    "#Float\n",
    "type(42.0)"
   ]
  },
  {
   "cell_type": "code",
   "execution_count": null,
   "metadata": {},
   "outputs": [],
   "source": [
    "#Float\n",
    "type (42.23423)"
   ]
  },
  {
   "cell_type": "markdown",
   "metadata": {},
   "source": [
    "The last numeric data type used in Python 3 is a `complex` or complex number. Complex numbers are used in all sorts of scientific and engineering applications. Complex numbers are made up of a real and an imaginary part, the imaginary part denoted by appending it with a `j` or `J`. There are also built-in accessors to extract the real and imaginary parts of the complex number, along with a function supplying the conjugate of the complex number `.real`, `.imag`, and `.conjugate()` respectively. Both real and imginary parts of the complex number are considered floats, or decimal numbers.`"
   ]
  },
  {
   "cell_type": "code",
   "execution_count": null,
   "metadata": {},
   "outputs": [],
   "source": [
    "#Complex number creation with the complex constructor\n",
    "complex(10,3)"
   ]
  },
  {
   "cell_type": "code",
   "execution_count": null,
   "metadata": {},
   "outputs": [],
   "source": [
    "#Complex number creation manually\n",
    "10+3j"
   ]
  },
  {
   "cell_type": "code",
   "execution_count": null,
   "metadata": {},
   "outputs": [],
   "source": [
    "#Extracting the real part of the complex number\n",
    "z = (10+3j)\n",
    "z.real"
   ]
  },
  {
   "cell_type": "code",
   "execution_count": null,
   "metadata": {},
   "outputs": [],
   "source": [
    "#Extracting the imaginary part of the complex number\n",
    "z = (10+3j)\n",
    "z.imag"
   ]
  },
  {
   "cell_type": "code",
   "execution_count": null,
   "metadata": {},
   "outputs": [],
   "source": [
    "#Supplying the conjugate of the complex number\n",
    "z = (10+3j)\n",
    "z.conjugate()"
   ]
  },
  {
   "cell_type": "markdown",
   "metadata": {},
   "source": [
    "In Python you can run classic arithmetic operations right in the prompt with the addition of some others."
   ]
  },
  {
   "cell_type": "code",
   "execution_count": null,
   "metadata": {},
   "outputs": [],
   "source": [
    "#Addition\n",
    "10 + 3"
   ]
  },
  {
   "cell_type": "code",
   "execution_count": null,
   "metadata": {},
   "outputs": [],
   "source": [
    "#Subtraction\n",
    "10 - 3"
   ]
  },
  {
   "cell_type": "code",
   "execution_count": null,
   "metadata": {},
   "outputs": [],
   "source": [
    "#Multiplication\n",
    "10 * 3"
   ]
  },
  {
   "cell_type": "code",
   "execution_count": null,
   "metadata": {},
   "outputs": [],
   "source": [
    "#Classic Division\n",
    "10 / 3 "
   ]
  },
  {
   "cell_type": "code",
   "execution_count": null,
   "metadata": {},
   "outputs": [],
   "source": [
    "#Parenthesis\n",
    "(10 + 3) * 3"
   ]
  },
  {
   "cell_type": "markdown",
   "metadata": {},
   "source": [
    "Floor division works similarly to classic divsion, but returns only the quotient without the remainder."
   ]
  },
  {
   "cell_type": "code",
   "execution_count": null,
   "metadata": {},
   "outputs": [],
   "source": [
    "#Floor Division\n",
    "10 // 3"
   ]
  },
  {
   "cell_type": "markdown",
   "metadata": {},
   "source": [
    "Modulo division on the other hand will return only the remainder without the quotient."
   ]
  },
  {
   "cell_type": "code",
   "execution_count": null,
   "metadata": {},
   "outputs": [],
   "source": [
    "#Modulo Division\n",
    "10 % 3"
   ]
  },
  {
   "cell_type": "markdown",
   "metadata": {},
   "source": [
    "In Python a double asterisk `**` is used to denote exponentiation."
   ]
  },
  {
   "cell_type": "code",
   "execution_count": null,
   "metadata": {},
   "outputs": [],
   "source": [
    "10 ** 3"
   ]
  },
  {
   "cell_type": "markdown",
   "metadata": {},
   "source": [
    "Just like in normal mathematics Python adheres to PEMDAS.\n",
    "(Parenthesis, Exponentiation, Multiplication, Division, Addition, Subtraction)"
   ]
  },
  {
   "cell_type": "code",
   "execution_count": null,
   "metadata": {},
   "outputs": [],
   "source": [
    "(10 ** 3 - 100) / 10 + 5 * 2"
   ]
  },
  {
   "cell_type": "markdown",
   "metadata": {},
   "source": [
    "End of Spencer's Entries"
   ]
  },
  {
   "cell_type": "markdown",
   "metadata": {},
   "source": [
    "Start of Jerry's Entries"
   ]
  },
  {
   "cell_type": "markdown",
   "metadata": {},
   "source": [
    "End of Jerry's Entries"
   ]
  },
  {
   "cell_type": "markdown",
   "metadata": {},
   "source": [
    "## Classes and Objects\n",
    "\n",
    "Simply put a class contains variables and functions that can be resused as needed. An object then uses the class variables and functions within the code set.\n",
    "\n",
    "An example of a class is:\n",
    "\n",
    "class AwesomeClass:\n",
    "    a = \"this is a variable\"\n",
    "    \n",
    "    def function(self):\n",
    "        print(\"this is a function\")"
   ]
  },
  {
   "cell_type": "code",
   "execution_count": null,
   "metadata": {},
   "outputs": [],
   "source": [
    "class AwesomeClass:\n",
    "    a = \"this is a variable\"\n",
    "    \n",
    "    def function(self):\n",
    "        print(\"this is a function\")"
   ]
  },
  {
   "cell_type": "markdown",
   "metadata": {},
   "source": [
    "An object is a variable that is assigned the class and then it uses the classes variables and functions.\n",
    "\n",
    "An example of an object is:\n",
    "\n",
    "    awesomeObject = AwesomeClass()"
   ]
  },
  {
   "cell_type": "code",
   "execution_count": null,
   "metadata": {},
   "outputs": [],
   "source": [
    "awesomeObject = AwesomeClass()"
   ]
  },
  {
   "cell_type": "code",
   "execution_count": 4,
   "metadata": {},
   "outputs": [
    {
     "data": {
      "text/plain": [
       "'this is a variable'"
      ]
     },
     "execution_count": 4,
     "metadata": {},
     "output_type": "execute_result"
    }
   ],
   "source": [
    "awesomeObject.a"
   ]
  },
  {
   "cell_type": "markdown",
   "metadata": {},
   "source": [
    "End of Georgi's Entries"
   ]
  }
 ],
 "metadata": {
  "kernelspec": {
   "display_name": "Python 3",
   "language": "python",
   "name": "python3"
  },
  "language_info": {
   "codemirror_mode": {
    "name": "ipython",
    "version": 3
   },
   "file_extension": ".py",
   "mimetype": "text/x-python",
   "name": "python",
   "nbconvert_exporter": "python",
   "pygments_lexer": "ipython3",
   "version": "3.7.1"
  }
 },
 "nbformat": 4,
 "nbformat_minor": 2
}
=======
{
  "cells": [
    {
      "metadata": {},
      "cell_type": "markdown",
      "source": "Start of David B's Entries"
    },
    {
      "metadata": {},
      "cell_type": "markdown",
      "source": "End of David B's Entries"
    },
    {
      "metadata": {},
      "cell_type": "markdown",
      "source": "Start of Spencer's Entries"
    },
    {
      "metadata": {},
      "cell_type": "markdown",
      "source": "End of Spencer's Entries"
    },
    {
      "metadata": {},
      "cell_type": "markdown",
      "source": "Start of Jerry's Entries"
    },
    {
      "metadata": {},
      "cell_type": "markdown",
      "source": "End of Jerry's Entries"
    },
    {
      "metadata": {},
      "cell_type": "markdown",
      "source": "## Classes and Objects\n\nSimply put a class contains variables and functions that can be resused as needed. An object then uses the class variables and functions within the code set.\n\nAn example of a class is:\n\nclass AwesomeClass:\n    a = \"this is a variable\"\n    \n    def function(self):\n        print(\"this is a function\")"
    },
    {
      "metadata": {
        "trusted": true
      },
      "cell_type": "code",
      "source": "class AwesomeClass:\n    a = \"this is a variable\"\n    \n    def function(self):\n        print(\"this is a function\")",
      "execution_count": null,
      "outputs": []
    },
    {
      "metadata": {},
      "cell_type": "markdown",
      "source": "An object is a variable that is assigned the class and then it uses the classes variables and functions.\n\nAn example of an object is:\n\n    awesomeObject = AwesomeClass()"
    },
    {
      "metadata": {
        "trusted": true
      },
      "cell_type": "code",
      "source": "awesomeObject = AwesomeClass()",
      "execution_count": null,
      "outputs": []
    },
    {
      "metadata": {},
      "cell_type": "markdown",
      "source": "## Modules\n\nA module is a file that contains functions that can be imported and called in code."
    },
    {
      "metadata": {},
      "cell_type": "markdown",
      "source": "End of Georgi's Entries"
    }
  ],
  "metadata": {
    "kernelspec": {
      "name": "python36",
      "display_name": "Python 3.6",
      "language": "python"
    },
    "language_info": {
      "mimetype": "text/x-python",
      "nbconvert_exporter": "python",
      "name": "python",
      "pygments_lexer": "ipython3",
      "version": "3.6.6",
      "file_extension": ".py",
      "codemirror_mode": {
        "version": 3,
        "name": "ipython"
      }
    }
  },
  "nbformat": 4,
  "nbformat_minor": 2
}