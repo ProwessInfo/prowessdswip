{
  "cells": [
    {
      "metadata": {},
      "cell_type": "markdown",
      "source": "Start of David B's Entries"
    },
    {
      "metadata": {},
      "cell_type": "markdown",
      "source": "End of David B's Entries"
    },
    {
      "metadata": {},
      "cell_type": "markdown",
      "source": "Start of Spencer's Entries"
    },
    {
      "metadata": {},
      "cell_type": "markdown",
      "source": "## Python Basic Syntax"
    },
    {
      "metadata": {},
      "cell_type": "markdown",
      "source": "To add documentation in your code you can you comments. For single line comments use the number sign `#` to denote the start of the comment. The Python interpreter will ignore everything after the number sign on that line."
    },
    {
      "metadata": {
        "trusted": false
      },
      "cell_type": "code",
      "source": "# Single line comment above \nprint (\"Python\") # Single line comment on the same line as code\n# Single line comment below code, this is discouraged as it can lead to confusion which line of code you're commenting",
      "execution_count": 1,
      "outputs": [
        {
          "name": "stdout",
          "output_type": "stream",
          "text": "Python\n"
        }
      ]
    },
    {
      "metadata": {},
      "cell_type": "markdown",
      "source": "For a multiline comment you can either use triple single quotes `'''` or triple double quotes `\"\"\"`. Which ever you choose you must end the comment block with the matching quote type."
    },
    {
      "metadata": {
        "trusted": false
      },
      "cell_type": "code",
      "source": "\"\"\"This is a multiline\ncomment with double quotes\"\"\"\n\n'''This is a multiline comment \nwith single quotes''' \n\nprint (\"Python\")",
      "execution_count": null,
      "outputs": []
    },
    {
      "metadata": {},
      "cell_type": "markdown",
      "source": "An `int` or integer data type is any whole number positive or negative."
    },
    {
      "metadata": {
        "trusted": false
      },
      "cell_type": "code",
      "source": "#int\ntype(42)",
      "execution_count": null,
      "outputs": []
    },
    {
      "metadata": {
        "trusted": false
      },
      "cell_type": "code",
      "source": "#int\ntype(-42)",
      "execution_count": null,
      "outputs": []
    },
    {
      "metadata": {},
      "cell_type": "markdown",
      "source": "A Float is any decimal number. The result of classic division will always be converted to a float."
    },
    {
      "metadata": {
        "trusted": false
      },
      "cell_type": "code",
      "source": "#Float\ntype(42.0)",
      "execution_count": null,
      "outputs": []
    },
    {
      "metadata": {
        "trusted": false
      },
      "cell_type": "code",
      "source": "#Float\ntype (42.23423)",
      "execution_count": null,
      "outputs": []
    },
    {
      "metadata": {},
      "cell_type": "markdown",
      "source": "The last numeric data type used in Python 3 is a `complex` or complex number. Complex numbers are used in all sorts of scientific and engineering applications. Complex numbers are made up of a real and an imaginary part, the imaginary part denoted by appending it with a `j` or `J`. There are also built-in accessors to extract the real and imaginary parts of the complex number, along with a function supplying the conjugate of the complex number `.real`, `.imag`, and `.conjugate()` respectively. Both real and imginary parts of the complex number are considered floats, or decimal numbers.`"
    },
    {
      "metadata": {
        "trusted": false
      },
      "cell_type": "code",
      "source": "#Complex number creation with the complex constructor\ncomplex(10,3)",
      "execution_count": null,
      "outputs": []
    },
    {
      "metadata": {
        "trusted": false
      },
      "cell_type": "code",
      "source": "#Complex number creation manually\n10+3j",
      "execution_count": null,
      "outputs": []
    },
    {
      "metadata": {
        "trusted": false
      },
      "cell_type": "code",
      "source": "#Extracting the real part of the complex number\nz = (10+3j)\nz.real",
      "execution_count": null,
      "outputs": []
    },
    {
      "metadata": {
        "trusted": false
      },
      "cell_type": "code",
      "source": "#Extracting the imaginary part of the complex number\nz = (10+3j)\nz.imag",
      "execution_count": null,
      "outputs": []
    },
    {
      "metadata": {
        "trusted": false
      },
      "cell_type": "code",
      "source": "#Supplying the conjugate of the complex number\nz = (10+3j)\nz.conjugate()",
      "execution_count": null,
      "outputs": []
    },
    {
      "metadata": {},
      "cell_type": "markdown",
      "source": "In Python you can run classic arithmetic operations right in the prompt with the addition of some others."
    },
    {
      "metadata": {
        "trusted": false
      },
      "cell_type": "code",
      "source": "#Addition\n10 + 3",
      "execution_count": null,
      "outputs": []
    },
    {
      "metadata": {
        "trusted": false
      },
      "cell_type": "code",
      "source": "#Subtraction\n10 - 3",
      "execution_count": null,
      "outputs": []
    },
    {
      "metadata": {
        "trusted": false
      },
      "cell_type": "code",
      "source": "#Multiplication\n10 * 3",
      "execution_count": null,
      "outputs": []
    },
    {
      "metadata": {
        "trusted": false
      },
      "cell_type": "code",
      "source": "#Classic Division\n10 / 3 ",
      "execution_count": null,
      "outputs": []
    },
    {
      "metadata": {
        "trusted": false
      },
      "cell_type": "code",
      "source": "#Parenthesis\n(10 + 3) * 3",
      "execution_count": null,
      "outputs": []
    },
    {
      "metadata": {},
      "cell_type": "markdown",
      "source": "Floor division works similarly to classic divsion, but returns only the quotient without the remainder."
    },
    {
      "metadata": {
        "trusted": false
      },
      "cell_type": "code",
      "source": "#Floor Division\n10 // 3",
      "execution_count": null,
      "outputs": []
    },
    {
      "metadata": {},
      "cell_type": "markdown",
      "source": "Modulo division on the other hand will return only the remainder without the quotient."
    },
    {
      "metadata": {
        "trusted": false
      },
      "cell_type": "code",
      "source": "#Modulo Division\n10 % 3",
      "execution_count": null,
      "outputs": []
    },
    {
      "metadata": {},
      "cell_type": "markdown",
      "source": "In Python a double asterisk `**` is used to denote exponentiation."
    },
    {
      "metadata": {
        "trusted": false
      },
      "cell_type": "code",
      "source": "10 ** 3",
      "execution_count": null,
      "outputs": []
    },
    {
      "metadata": {},
      "cell_type": "markdown",
      "source": "Just like in normal mathematics Python adheres to PEMDAS.\n(Parenthesis, Exponentiation, Multiplication, Division, Addition, Subtraction)"
    },
    {
      "metadata": {
        "trusted": false
      },
      "cell_type": "code",
      "source": "(10 ** 3 - 100) / 10 + 5 * 2",
      "execution_count": null,
      "outputs": []
    },
    {
      "metadata": {},
      "cell_type": "markdown",
      "source": "End of Spencer's Entries"
    },
    {
      "metadata": {},
      "cell_type": "markdown",
      "source": "Start of Jerry's Entries"
    },
    {
      "metadata": {},
      "cell_type": "markdown",
      "source": "End of Jerry's Entries"
    },
    {
      "metadata": {},
      "cell_type": "markdown",
      "source": "## Classes and Objects\n\nSimply put a class contains variables and functions that can be resused as needed. An object then uses the class variables and functions within the code set.\n\nAn example of a class is:\n\nclass AwesomeClass:\n    a = \"this is a variable\"\n    \n    def function(self):\n        print(\"this is a function\")"
    },
    {
      "metadata": {
        "trusted": false
      },
      "cell_type": "code",
      "source": "class AwesomeClass:\n    a = \"this is a variable\"\n    \n    def function(self):\n        print(\"this is a function\")",
      "execution_count": null,
      "outputs": []
    },
    {
      "metadata": {},
      "cell_type": "markdown",
      "source": "An object is a variable that is assigned the class and then it uses the classes variables and functions.\n\nAn example of an object is:\n\n    awesomeObject = AwesomeClass()"
    },
    {
      "metadata": {
        "trusted": false
      },
      "cell_type": "code",
      "source": "awesomeObject = AwesomeClass()",
      "execution_count": null,
      "outputs": []
    },
    {
      "metadata": {
        "trusted": false
      },
      "cell_type": "code",
      "source": "awesomeObject.a",
      "execution_count": 4,
      "outputs": [
        {
          "data": {
            "text/plain": "'this is a variable'"
          },
          "execution_count": 4,
          "metadata": {},
          "output_type": "execute_result"
        }
      ]
    },
    {
      "metadata": {},
      "cell_type": "markdown",
      "source": "End of Georgi's Entries"
    }
  ],
  "metadata": {
    "kernelspec": {
      "name": "python3",
      "display_name": "Python 3",
      "language": "python"
    },
    "language_info": {
      "mimetype": "text/x-python",
      "nbconvert_exporter": "python",
      "name": "python",
      "pygments_lexer": "ipython3",
      "version": "3.5.4",
      "file_extension": ".py",
      "codemirror_mode": {
        "version": 3,
        "name": "ipython"
      }
    }
  },
  "nbformat": 4,
  "nbformat_minor": 2
}