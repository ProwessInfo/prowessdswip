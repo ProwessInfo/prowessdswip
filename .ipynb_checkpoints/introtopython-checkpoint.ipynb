{
  "cells": [
    {
      "metadata": {},
      "cell_type": "markdown",
      "source": "Start of David B's Entries"
    },
    {
      "metadata": {},
      "cell_type": "markdown",
      "source": "End of David B's Entries"
    },
    {
      "metadata": {},
      "cell_type": "markdown",
      "source": "Start of Spencer's Entries"
    },
    {
      "metadata": {},
      "cell_type": "markdown",
      "source": "End of Spencer's Entries"
    },
    {
      "metadata": {},
      "cell_type": "markdown",
      "source": "Start of Jerry's Entries"
    },
    {
      "metadata": {},
      "cell_type": "markdown",
      "source": "End of Jerry's Entries"
    },
    {
      "metadata": {},
      "cell_type": "markdown",
      "source": "## Classes and Objects\n\nSimply put a class contains variables and functions that can be resused as needed. An object then uses the class variables and functions within the code set.\n\nAn example of a class is:\n\nclass AwesomeClass:\n    a = \"this is a variable\"\n    \n    def function(self):\n        print(\"this is a function\")"
    },
    {
      "metadata": {
        "trusted": true
      },
      "cell_type": "code",
      "source": "class AwesomeClass:\n    a = \"this is a variable\"\n    \n    def function(self):\n        print(\"this is a function\")",
      "execution_count": null,
      "outputs": []
    },
    {
      "metadata": {},
      "cell_type": "markdown",
      "source": "An object is a variable that is assigned the class and then it uses the classes variables and functions.\n\nAn example of an object is:\n\n    awesomeObject = AwesomeClass()"
    },
    {
      "metadata": {
        "trusted": true
      },
      "cell_type": "code",
      "source": "awesomeObject = AwesomeClass()",
      "execution_count": null,
      "outputs": []
    },
    {
      "metadata": {},
      "cell_type": "markdown",
      "source": "End of Georgi's Entries"
    }
  ],
  "metadata": {
    "kernelspec": {
      "name": "python36",
      "display_name": "Python 3.6",
      "language": "python"
    },
    "language_info": {
      "mimetype": "text/x-python",
      "nbconvert_exporter": "python",
      "name": "python",
      "pygments_lexer": "ipython3",
      "version": "3.6.6",
      "file_extension": ".py",
      "codemirror_mode": {
        "version": 3,
        "name": "ipython"
      }
    }
  },
  "nbformat": 4,
  "nbformat_minor": 2
}